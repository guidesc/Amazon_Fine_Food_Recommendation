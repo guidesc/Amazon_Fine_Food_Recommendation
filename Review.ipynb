{
 "cells": [
  {
   "cell_type": "markdown",
   "metadata": {},
   "source": [
    "## Dashboard\n",
    "\n",
    "- Import data and Data Exploratory\n",
    "- Run Recommendation Models\n",
    "- \n",
    "\n",
    "### Import Data"
   ]
  },
  {
   "cell_type": "code",
   "execution_count": 2,
   "metadata": {
    "collapsed": true
   },
   "outputs": [],
   "source": [
    "import pandas as pd\n",
    "from matplotlib import pyplot as plt\n",
    "import numpy as np\n",
    "import seaborn as sns\n",
    "%matplotlib inline\n",
    "df = pd.read_csv('data/Reviews.csv')"
   ]
  },
  {
   "cell_type": "code",
   "execution_count": 3,
   "metadata": {
    "scrolled": true
   },
   "outputs": [
    {
     "data": {
      "text/html": [
       "<div>\n",
       "<style scoped>\n",
       "    .dataframe tbody tr th:only-of-type {\n",
       "        vertical-align: middle;\n",
       "    }\n",
       "\n",
       "    .dataframe tbody tr th {\n",
       "        vertical-align: top;\n",
       "    }\n",
       "\n",
       "    .dataframe thead th {\n",
       "        text-align: right;\n",
       "    }\n",
       "</style>\n",
       "<table border=\"1\" class=\"dataframe\">\n",
       "  <thead>\n",
       "    <tr style=\"text-align: right;\">\n",
       "      <th></th>\n",
       "      <th>Id</th>\n",
       "      <th>ProductId</th>\n",
       "      <th>UserId</th>\n",
       "      <th>ProfileName</th>\n",
       "      <th>HelpfulnessNumerator</th>\n",
       "      <th>HelpfulnessDenominator</th>\n",
       "      <th>Score</th>\n",
       "      <th>Time</th>\n",
       "      <th>Summary</th>\n",
       "      <th>Text</th>\n",
       "    </tr>\n",
       "  </thead>\n",
       "  <tbody>\n",
       "    <tr>\n",
       "      <th>0</th>\n",
       "      <td>1</td>\n",
       "      <td>B001E4KFG0</td>\n",
       "      <td>A3SGXH7AUHU8GW</td>\n",
       "      <td>delmartian</td>\n",
       "      <td>1</td>\n",
       "      <td>1</td>\n",
       "      <td>5</td>\n",
       "      <td>1303862400</td>\n",
       "      <td>Good Quality Dog Food</td>\n",
       "      <td>I have bought several of the Vitality canned d...</td>\n",
       "    </tr>\n",
       "    <tr>\n",
       "      <th>1</th>\n",
       "      <td>2</td>\n",
       "      <td>B00813GRG4</td>\n",
       "      <td>A1D87F6ZCVE5NK</td>\n",
       "      <td>dll pa</td>\n",
       "      <td>0</td>\n",
       "      <td>0</td>\n",
       "      <td>1</td>\n",
       "      <td>1346976000</td>\n",
       "      <td>Not as Advertised</td>\n",
       "      <td>Product arrived labeled as Jumbo Salted Peanut...</td>\n",
       "    </tr>\n",
       "    <tr>\n",
       "      <th>2</th>\n",
       "      <td>3</td>\n",
       "      <td>B000LQOCH0</td>\n",
       "      <td>ABXLMWJIXXAIN</td>\n",
       "      <td>Natalia Corres \"Natalia Corres\"</td>\n",
       "      <td>1</td>\n",
       "      <td>1</td>\n",
       "      <td>4</td>\n",
       "      <td>1219017600</td>\n",
       "      <td>\"Delight\" says it all</td>\n",
       "      <td>This is a confection that has been around a fe...</td>\n",
       "    </tr>\n",
       "    <tr>\n",
       "      <th>3</th>\n",
       "      <td>4</td>\n",
       "      <td>B000UA0QIQ</td>\n",
       "      <td>A395BORC6FGVXV</td>\n",
       "      <td>Karl</td>\n",
       "      <td>3</td>\n",
       "      <td>3</td>\n",
       "      <td>2</td>\n",
       "      <td>1307923200</td>\n",
       "      <td>Cough Medicine</td>\n",
       "      <td>If you are looking for the secret ingredient i...</td>\n",
       "    </tr>\n",
       "    <tr>\n",
       "      <th>4</th>\n",
       "      <td>5</td>\n",
       "      <td>B006K2ZZ7K</td>\n",
       "      <td>A1UQRSCLF8GW1T</td>\n",
       "      <td>Michael D. Bigham \"M. Wassir\"</td>\n",
       "      <td>0</td>\n",
       "      <td>0</td>\n",
       "      <td>5</td>\n",
       "      <td>1350777600</td>\n",
       "      <td>Great taffy</td>\n",
       "      <td>Great taffy at a great price.  There was a wid...</td>\n",
       "    </tr>\n",
       "  </tbody>\n",
       "</table>\n",
       "</div>"
      ],
      "text/plain": [
       "   Id   ProductId          UserId                      ProfileName  \\\n",
       "0   1  B001E4KFG0  A3SGXH7AUHU8GW                       delmartian   \n",
       "1   2  B00813GRG4  A1D87F6ZCVE5NK                           dll pa   \n",
       "2   3  B000LQOCH0   ABXLMWJIXXAIN  Natalia Corres \"Natalia Corres\"   \n",
       "3   4  B000UA0QIQ  A395BORC6FGVXV                             Karl   \n",
       "4   5  B006K2ZZ7K  A1UQRSCLF8GW1T    Michael D. Bigham \"M. Wassir\"   \n",
       "\n",
       "   HelpfulnessNumerator  HelpfulnessDenominator  Score        Time  \\\n",
       "0                     1                       1      5  1303862400   \n",
       "1                     0                       0      1  1346976000   \n",
       "2                     1                       1      4  1219017600   \n",
       "3                     3                       3      2  1307923200   \n",
       "4                     0                       0      5  1350777600   \n",
       "\n",
       "                 Summary                                               Text  \n",
       "0  Good Quality Dog Food  I have bought several of the Vitality canned d...  \n",
       "1      Not as Advertised  Product arrived labeled as Jumbo Salted Peanut...  \n",
       "2  \"Delight\" says it all  This is a confection that has been around a fe...  \n",
       "3         Cough Medicine  If you are looking for the secret ingredient i...  \n",
       "4            Great taffy  Great taffy at a great price.  There was a wid...  "
      ]
     },
     "execution_count": 3,
     "metadata": {},
     "output_type": "execute_result"
    }
   ],
   "source": [
    "df.head()"
   ]
  },
  {
   "cell_type": "code",
   "execution_count": 4,
   "metadata": {},
   "outputs": [
    {
     "name": "stdout",
     "output_type": "stream",
     "text": [
      "<class 'pandas.core.frame.DataFrame'>\n",
      "RangeIndex: 568454 entries, 0 to 568453\n",
      "Data columns (total 10 columns):\n",
      "Id                        568454 non-null int64\n",
      "ProductId                 568454 non-null object\n",
      "UserId                    568454 non-null object\n",
      "ProfileName               568438 non-null object\n",
      "HelpfulnessNumerator      568454 non-null int64\n",
      "HelpfulnessDenominator    568454 non-null int64\n",
      "Score                     568454 non-null int64\n",
      "Time                      568454 non-null int64\n",
      "Summary                   568427 non-null object\n",
      "Text                      568454 non-null object\n",
      "dtypes: int64(5), object(5)\n",
      "memory usage: 43.4+ MB\n"
     ]
    }
   ],
   "source": [
    "# check data type and numbers\n",
    "df.info()"
   ]
  },
  {
   "cell_type": "code",
   "execution_count": 5,
   "metadata": {},
   "outputs": [
    {
     "data": {
      "text/plain": [
       "Id                         0\n",
       "ProductId                  0\n",
       "UserId                     0\n",
       "ProfileName               16\n",
       "HelpfulnessNumerator       0\n",
       "HelpfulnessDenominator     0\n",
       "Score                      0\n",
       "Time                       0\n",
       "Summary                   27\n",
       "Text                       0\n",
       "dtype: int64"
      ]
     },
     "execution_count": 5,
     "metadata": {},
     "output_type": "execute_result"
    }
   ],
   "source": [
    "# check for NA items\n",
    "df.isnull().sum()"
   ]
  },
  {
   "cell_type": "markdown",
   "metadata": {},
   "source": [
    "### Exploratory Data Analysis (EDA)"
   ]
  },
  {
   "cell_type": "code",
   "execution_count": 6,
   "metadata": {},
   "outputs": [
    {
     "data": {
      "text/plain": [
       "Text(0.5,1,'ProductId histogram')"
      ]
     },
     "execution_count": 6,
     "metadata": {},
     "output_type": "execute_result"
    },
    {
     "data": {
      "image/png": "[encoded data removed]",
      "text/plain": [
       "<matplotlib.figure.Figure at 0x27f45860>"
      ]
     },
     "metadata": {},
     "output_type": "display_data"
    }
   ],
   "source": [
    "# Check same value counts how many times\n",
    "# Check ProductId, UserId\n",
    "df.ProductId.value_counts().T.hist()\n",
    "\n",
    "plt.title('ProductId histogram')"
   ]
  },
  {
   "cell_type": "code",
   "execution_count": 7,
   "metadata": {},
   "outputs": [
    {
     "data": {
      "text/plain": [
       "Text(0.5,1,'UserId histogram')"
      ]
     },
     "execution_count": 7,
     "metadata": {},
     "output_type": "execute_result"
    },
    {
     "data": {
      "image/png": "[encoded data removed]",
      "text/plain": [
       "<matplotlib.figure.Figure at 0xa4002e8>"
      ]
     },
     "metadata": {},
     "output_type": "display_data"
    }
   ],
   "source": [
    "plt.figure()\n",
    "ax = df.UserId.value_counts().T.hist(bins=30)\n",
    "plt.title('UserId histogram')\n",
    "#ax.set_xlim([0,60])"
   ]
  },
  {
   "cell_type": "code",
   "execution_count": 8,
   "metadata": {},
   "outputs": [
    {
     "name": "stderr",
     "output_type": "stream",
     "text": [
      "D:\\Users\\ThinkPad\\Anaconda3\\lib\\site-packages\\seaborn\\categorical.py:454: FutureWarning: remove_na is deprecated and is a private function. Do not use.\n",
      "  box_data = remove_na(group_data)\n"
     ]
    },
    {
     "data": {
      "text/plain": [
       "<matplotlib.axes._subplots.AxesSubplot at 0xa4b66a0>"
      ]
     },
     "execution_count": 8,
     "metadata": {},
     "output_type": "execute_result"
    },
    {
     "data": {
      "image/png": "[encoded data removed]",
      "text/plain": [
       "<matplotlib.figure.Figure at 0x4aa01d0>"
      ]
     },
     "metadata": {},
     "output_type": "display_data"
    }
   ],
   "source": [
    "import seaborn as sns\n",
    "sns.boxplot(data=df.ProductId.value_counts().T) # check for boxplot"
   ]
  },
  {
   "cell_type": "code",
   "execution_count": 9,
   "metadata": {},
   "outputs": [
    {
     "data": {
      "text/plain": [
       "count    256059.000000\n",
       "mean          2.220012\n",
       "std           4.443361\n",
       "min           1.000000\n",
       "25%           1.000000\n",
       "50%           1.000000\n",
       "75%           2.000000\n",
       "max         448.000000\n",
       "Name: UserId, dtype: float64"
      ]
     },
     "execution_count": 9,
     "metadata": {},
     "output_type": "execute_result"
    }
   ],
   "source": [
    "df.UserId.value_counts().describe() # Most of the users just buy once, same for ProductId"
   ]
  },
  {
   "cell_type": "markdown",
   "metadata": {},
   "source": [
    "### Feature Engineering\n",
    "\n",
    "We mainly focus in two tasks:\n",
    "- Drop products and users frequency lower than 10 times --> computional efficiency, data representativeness\n",
    "- Manually create two columns `#Products` Number of ProductId frequency and `#Users` Number of Users frequency\n",
    "- Convert Time back to pandas.datatime type"
   ]
  },
  {
   "cell_type": "code",
   "execution_count": 14,
   "metadata": {},
   "outputs": [
    {
     "data": {
      "text/html": [
       "<div>\n",
       "<style scoped>\n",
       "    .dataframe tbody tr th:only-of-type {\n",
       "        vertical-align: middle;\n",
       "    }\n",
       "\n",
       "    .dataframe tbody tr th {\n",
       "        vertical-align: top;\n",
       "    }\n",
       "\n",
       "    .dataframe thead th {\n",
       "        text-align: right;\n",
       "    }\n",
       "</style>\n",
       "<table border=\"1\" class=\"dataframe\">\n",
       "  <thead>\n",
       "    <tr style=\"text-align: right;\">\n",
       "      <th></th>\n",
       "      <th>Id</th>\n",
       "      <th>HelpfulnessNumerator</th>\n",
       "      <th>HelpfulnessDenominator</th>\n",
       "      <th>Score</th>\n",
       "      <th>Time</th>\n",
       "      <th>#Proudcts</th>\n",
       "      <th>#Users</th>\n",
       "    </tr>\n",
       "  </thead>\n",
       "  <tbody>\n",
       "    <tr>\n",
       "      <th>count</th>\n",
       "      <td>64340.000000</td>\n",
       "      <td>64340.000000</td>\n",
       "      <td>64340.000000</td>\n",
       "      <td>64340.000000</td>\n",
       "      <td>6.434000e+04</td>\n",
       "      <td>64340.000000</td>\n",
       "      <td>64340.000000</td>\n",
       "    </tr>\n",
       "    <tr>\n",
       "      <th>mean</th>\n",
       "      <td>277181.438887</td>\n",
       "      <td>1.429437</td>\n",
       "      <td>1.973376</td>\n",
       "      <td>4.088592</td>\n",
       "      <td>1.295185e+09</td>\n",
       "      <td>199.157927</td>\n",
       "      <td>33.280712</td>\n",
       "    </tr>\n",
       "    <tr>\n",
       "      <th>std</th>\n",
       "      <td>160812.549416</td>\n",
       "      <td>5.869399</td>\n",
       "      <td>6.673974</td>\n",
       "      <td>1.230218</td>\n",
       "      <td>4.648356e+07</td>\n",
       "      <td>130.611822</td>\n",
       "      <td>42.327854</td>\n",
       "    </tr>\n",
       "    <tr>\n",
       "      <th>min</th>\n",
       "      <td>423.000000</td>\n",
       "      <td>0.000000</td>\n",
       "      <td>0.000000</td>\n",
       "      <td>1.000000</td>\n",
       "      <td>1.084666e+09</td>\n",
       "      <td>13.000000</td>\n",
       "      <td>11.000000</td>\n",
       "    </tr>\n",
       "    <tr>\n",
       "      <th>25%</th>\n",
       "      <td>136046.500000</td>\n",
       "      <td>0.000000</td>\n",
       "      <td>0.000000</td>\n",
       "      <td>3.000000</td>\n",
       "      <td>1.265760e+09</td>\n",
       "      <td>103.000000</td>\n",
       "      <td>14.000000</td>\n",
       "    </tr>\n",
       "    <tr>\n",
       "      <th>50%</th>\n",
       "      <td>275571.500000</td>\n",
       "      <td>0.000000</td>\n",
       "      <td>1.000000</td>\n",
       "      <td>5.000000</td>\n",
       "      <td>1.310774e+09</td>\n",
       "      <td>171.000000</td>\n",
       "      <td>21.000000</td>\n",
       "    </tr>\n",
       "    <tr>\n",
       "      <th>75%</th>\n",
       "      <td>412090.250000</td>\n",
       "      <td>1.000000</td>\n",
       "      <td>2.000000</td>\n",
       "      <td>5.000000</td>\n",
       "      <td>1.332547e+09</td>\n",
       "      <td>269.000000</td>\n",
       "      <td>33.000000</td>\n",
       "    </tr>\n",
       "    <tr>\n",
       "      <th>max</th>\n",
       "      <td>568063.000000</td>\n",
       "      <td>413.000000</td>\n",
       "      <td>416.000000</td>\n",
       "      <td>5.000000</td>\n",
       "      <td>1.351210e+09</td>\n",
       "      <td>913.000000</td>\n",
       "      <td>448.000000</td>\n",
       "    </tr>\n",
       "  </tbody>\n",
       "</table>\n",
       "</div>"
      ],
      "text/plain": [
       "                  Id  HelpfulnessNumerator  HelpfulnessDenominator  \\\n",
       "count   64340.000000          64340.000000            64340.000000   \n",
       "mean   277181.438887              1.429437                1.973376   \n",
       "std    160812.549416              5.869399                6.673974   \n",
       "min       423.000000              0.000000                0.000000   \n",
       "25%    136046.500000              0.000000                0.000000   \n",
       "50%    275571.500000              0.000000                1.000000   \n",
       "75%    412090.250000              1.000000                2.000000   \n",
       "max    568063.000000            413.000000              416.000000   \n",
       "\n",
       "              Score          Time     #Proudcts        #Users  \n",
       "count  64340.000000  6.434000e+04  64340.000000  64340.000000  \n",
       "mean       4.088592  1.295185e+09    199.157927     33.280712  \n",
       "std        1.230218  4.648356e+07    130.611822     42.327854  \n",
       "min        1.000000  1.084666e+09     13.000000     11.000000  \n",
       "25%        3.000000  1.265760e+09    103.000000     14.000000  \n",
       "50%        5.000000  1.310774e+09    171.000000     21.000000  \n",
       "75%        5.000000  1.332547e+09    269.000000     33.000000  \n",
       "max        5.000000  1.351210e+09    913.000000    448.000000  "
      ]
     },
     "execution_count": 14,
     "metadata": {},
     "output_type": "execute_result"
    }
   ],
   "source": [
    "# filter conditions: No. Products > 10, No. Users > 10\n",
    "def data_clean(df, feature, m):\n",
    "    count = df[feature].value_counts()\n",
    "    df = df[df[feature].isin(count[count > m].index)]\n",
    "    return df \n",
    "def data_clean_sum(df,features,m):\n",
    "    fil = df.ProductId.value_counts()\n",
    "    fil2 = df.UserId.value_counts()\n",
    "    df['#Proudcts'] = df.ProductId.apply(lambda x: fil[x])\n",
    "    df['#Users'] = df.UserId.apply(lambda x: fil2[x])\n",
    "    while (df.ProductId.value_counts(ascending=True)[0]) < m or \\\n",
    "    (df.UserId.value_counts(ascending=True)[0] < m):\n",
    "        df = data_clean(df,features[0],m)\n",
    "        df = data_clean(df,features[1],m)\n",
    "    return df\n",
    "df['datetime'] = pd.to_datetime(df.Time, unit='s')\n",
    "output = data_clean_sum(df,['ProductId', 'UserId'],10)    \n",
    "# check if it is correct \n",
    "output.describe()"
   ]
  },
  {
   "cell_type": "code",
   "execution_count": 15,
   "metadata": {},
   "outputs": [
    {
     "data": {
      "text/plain": [
       "<matplotlib.axes._subplots.AxesSubplot at 0xa82b2e8>"
      ]
     },
     "execution_count": 15,
     "metadata": {},
     "output_type": "execute_result"
    },
    {
     "data": {
      "image/png": "[encoded data removed]",
      "text/plain": [
       "<matplotlib.figure.Figure at 0xa58fb00>"
      ]
     },
     "metadata": {},
     "output_type": "display_data"
    }
   ],
   "source": [
    "# Plot graph to see how item evlove with time\n",
    "df_grp = df.groupby([df.datetime.dt.year, df.datetime.dt.quarter, df.Score]).count()['ProductId'].unstack()\n",
    "\n",
    "df_grp.plot(kind=\"bar\",figsize=(30,10), stacked=True, colormap='jet')\n",
    "\n",
    "# Generally speaking, more on more people are purchasing online"
   ]
  },
  {
   "cell_type": "markdown",
   "metadata": {},
   "source": [
    "### Export Data for Prediction Models\n",
    "- Export output to data_filtered.csv\n",
    "- Run main.py to set the recommendation system"
   ]
  },
  {
   "cell_type": "code",
   "execution_count": 16,
   "metadata": {},
   "outputs": [],
   "source": [
    "output.to_csv('data_filtered.csv')"
   ]
  },
  {
   "cell_type": "code",
   "execution_count": 95,
   "metadata": {},
   "outputs": [
    {
     "data": {
      "text/html": [
       "<div>\n",
       "<style scoped>\n",
       "    .dataframe tbody tr th:only-of-type {\n",
       "        vertical-align: middle;\n",
       "    }\n",
       "\n",
       "    .dataframe tbody tr th {\n",
       "        vertical-align: top;\n",
       "    }\n",
       "\n",
       "    .dataframe thead th {\n",
       "        text-align: right;\n",
       "    }\n",
       "</style>\n",
       "<table border=\"1\" class=\"dataframe\">\n",
       "  <thead>\n",
       "    <tr style=\"text-align: right;\">\n",
       "      <th></th>\n",
       "      <th>Id</th>\n",
       "      <th>ProductId</th>\n",
       "      <th>UserId</th>\n",
       "      <th>ProfileName</th>\n",
       "      <th>HelpfulnessNumerator</th>\n",
       "      <th>HelpfulnessDenominator</th>\n",
       "      <th>Score</th>\n",
       "      <th>Time</th>\n",
       "      <th>Summary</th>\n",
       "      <th>Text</th>\n",
       "      <th>datetime</th>\n",
       "      <th>#Proudcts</th>\n",
       "      <th>#Users</th>\n",
       "    </tr>\n",
       "  </thead>\n",
       "  <tbody>\n",
       "  </tbody>\n",
       "</table>\n",
       "</div>"
      ],
      "text/plain": [
       "Empty DataFrame\n",
       "Columns: [Id, ProductId, UserId, ProfileName, HelpfulnessNumerator, HelpfulnessDenominator, Score, Time, Summary, Text, datetime, #Proudcts, #Users]\n",
       "Index: []"
      ]
     },
     "execution_count": 95,
     "metadata": {},
     "output_type": "execute_result"
    }
   ],
   "source": [
    "df[df.ProductId == 'B00328XVGU']"
   ]
  },
  {
   "cell_type": "markdown",
   "metadata": {},
   "source": [
    "### Run Recommendation Model\n",
    "- run `main.py` file and get the recommendation system"
   ]
  },
  {
   "cell_type": "code",
   "execution_count": null,
   "metadata": {},
   "outputs": [],
   "source": [
    "%run main.py"
   ]
  },
  {
   "cell_type": "markdown",
   "metadata": {},
   "source": [
    "### Create dummy variables for time-related model"
   ]
  },
  {
   "cell_type": "code",
   "execution_count": 80,
   "metadata": {},
   "outputs": [
    {
     "data": {
      "text/html": [
       "<div>\n",
       "<style scoped>\n",
       "    .dataframe tbody tr th:only-of-type {\n",
       "        vertical-align: middle;\n",
       "    }\n",
       "\n",
       "    .dataframe tbody tr th {\n",
       "        vertical-align: top;\n",
       "    }\n",
       "\n",
       "    .dataframe thead th {\n",
       "        text-align: right;\n",
       "    }\n",
       "</style>\n",
       "<table border=\"1\" class=\"dataframe\">\n",
       "  <thead>\n",
       "    <tr style=\"text-align: right;\">\n",
       "      <th></th>\n",
       "      <th>Score</th>\n",
       "      <th>datetime</th>\n",
       "      <th>Time</th>\n",
       "      <th>ProductId_7310172001</th>\n",
       "      <th>ProductId_7310172101</th>\n",
       "      <th>ProductId_B000084DWM</th>\n",
       "      <th>ProductId_B000084ETV</th>\n",
       "      <th>ProductId_B000084EZ4</th>\n",
       "      <th>ProductId_B00008CQVA</th>\n",
       "      <th>ProductId_B00008JOL0</th>\n",
       "      <th>...</th>\n",
       "      <th>ProductId_B008RWUHA6</th>\n",
       "      <th>ProductId_B008RWUKXK</th>\n",
       "      <th>ProductId_B008YA1NWC</th>\n",
       "      <th>ProductId_B008ZRKZSM</th>\n",
       "      <th>ProductId_B0090X8IPM</th>\n",
       "      <th>ProductId_B00954NY46</th>\n",
       "      <th>ProductId_B00954NYVY</th>\n",
       "      <th>ProductId_B009B87SAC</th>\n",
       "      <th>ProductId_B009GHI5Q4</th>\n",
       "      <th>ProductId_B009RB4GO4</th>\n",
       "    </tr>\n",
       "  </thead>\n",
       "  <tbody>\n",
       "    <tr>\n",
       "      <th>422</th>\n",
       "      <td>4</td>\n",
       "      <td>2012-04-26</td>\n",
       "      <td>1335398400</td>\n",
       "      <td>0</td>\n",
       "      <td>0</td>\n",
       "      <td>0</td>\n",
       "      <td>0</td>\n",
       "      <td>0</td>\n",
       "      <td>0</td>\n",
       "      <td>0</td>\n",
       "      <td>...</td>\n",
       "      <td>0</td>\n",
       "      <td>0</td>\n",
       "      <td>0</td>\n",
       "      <td>0</td>\n",
       "      <td>0</td>\n",
       "      <td>0</td>\n",
       "      <td>0</td>\n",
       "      <td>0</td>\n",
       "      <td>0</td>\n",
       "      <td>0</td>\n",
       "    </tr>\n",
       "    <tr>\n",
       "      <th>423</th>\n",
       "      <td>5</td>\n",
       "      <td>2012-04-17</td>\n",
       "      <td>1334620800</td>\n",
       "      <td>0</td>\n",
       "      <td>0</td>\n",
       "      <td>0</td>\n",
       "      <td>0</td>\n",
       "      <td>0</td>\n",
       "      <td>0</td>\n",
       "      <td>0</td>\n",
       "      <td>...</td>\n",
       "      <td>0</td>\n",
       "      <td>0</td>\n",
       "      <td>0</td>\n",
       "      <td>0</td>\n",
       "      <td>0</td>\n",
       "      <td>0</td>\n",
       "      <td>0</td>\n",
       "      <td>0</td>\n",
       "      <td>0</td>\n",
       "      <td>0</td>\n",
       "    </tr>\n",
       "    <tr>\n",
       "      <th>424</th>\n",
       "      <td>5</td>\n",
       "      <td>2012-04-13</td>\n",
       "      <td>1334275200</td>\n",
       "      <td>0</td>\n",
       "      <td>0</td>\n",
       "      <td>0</td>\n",
       "      <td>0</td>\n",
       "      <td>0</td>\n",
       "      <td>0</td>\n",
       "      <td>0</td>\n",
       "      <td>...</td>\n",
       "      <td>0</td>\n",
       "      <td>0</td>\n",
       "      <td>0</td>\n",
       "      <td>0</td>\n",
       "      <td>0</td>\n",
       "      <td>0</td>\n",
       "      <td>0</td>\n",
       "      <td>0</td>\n",
       "      <td>0</td>\n",
       "      <td>0</td>\n",
       "    </tr>\n",
       "    <tr>\n",
       "      <th>425</th>\n",
       "      <td>4</td>\n",
       "      <td>2012-04-10</td>\n",
       "      <td>1334016000</td>\n",
       "      <td>0</td>\n",
       "      <td>0</td>\n",
       "      <td>0</td>\n",
       "      <td>0</td>\n",
       "      <td>0</td>\n",
       "      <td>0</td>\n",
       "      <td>0</td>\n",
       "      <td>...</td>\n",
       "      <td>0</td>\n",
       "      <td>0</td>\n",
       "      <td>0</td>\n",
       "      <td>0</td>\n",
       "      <td>0</td>\n",
       "      <td>0</td>\n",
       "      <td>0</td>\n",
       "      <td>0</td>\n",
       "      <td>0</td>\n",
       "      <td>0</td>\n",
       "    </tr>\n",
       "    <tr>\n",
       "      <th>426</th>\n",
       "      <td>4</td>\n",
       "      <td>2012-04-10</td>\n",
       "      <td>1334016000</td>\n",
       "      <td>0</td>\n",
       "      <td>0</td>\n",
       "      <td>0</td>\n",
       "      <td>0</td>\n",
       "      <td>0</td>\n",
       "      <td>0</td>\n",
       "      <td>0</td>\n",
       "      <td>...</td>\n",
       "      <td>0</td>\n",
       "      <td>0</td>\n",
       "      <td>0</td>\n",
       "      <td>0</td>\n",
       "      <td>0</td>\n",
       "      <td>0</td>\n",
       "      <td>0</td>\n",
       "      <td>0</td>\n",
       "      <td>0</td>\n",
       "      <td>0</td>\n",
       "    </tr>\n",
       "  </tbody>\n",
       "</table>\n",
       "<p>5 rows × 1105 columns</p>\n",
       "</div>"
      ],
      "text/plain": [
       "     Score   datetime        Time  ProductId_7310172001  ProductId_7310172101  \\\n",
       "422      4 2012-04-26  1335398400                     0                     0   \n",
       "423      5 2012-04-17  1334620800                     0                     0   \n",
       "424      5 2012-04-13  1334275200                     0                     0   \n",
       "425      4 2012-04-10  1334016000                     0                     0   \n",
       "426      4 2012-04-10  1334016000                     0                     0   \n",
       "\n",
       "     ProductId_B000084DWM  ProductId_B000084ETV  ProductId_B000084EZ4  \\\n",
       "422                     0                     0                     0   \n",
       "423                     0                     0                     0   \n",
       "424                     0                     0                     0   \n",
       "425                     0                     0                     0   \n",
       "426                     0                     0                     0   \n",
       "\n",
       "     ProductId_B00008CQVA  ProductId_B00008JOL0          ...           \\\n",
       "422                     0                     0          ...            \n",
       "423                     0                     0          ...            \n",
       "424                     0                     0          ...            \n",
       "425                     0                     0          ...            \n",
       "426                     0                     0          ...            \n",
       "\n",
       "     ProductId_B008RWUHA6  ProductId_B008RWUKXK  ProductId_B008YA1NWC  \\\n",
       "422                     0                     0                     0   \n",
       "423                     0                     0                     0   \n",
       "424                     0                     0                     0   \n",
       "425                     0                     0                     0   \n",
       "426                     0                     0                     0   \n",
       "\n",
       "     ProductId_B008ZRKZSM  ProductId_B0090X8IPM  ProductId_B00954NY46  \\\n",
       "422                     0                     0                     0   \n",
       "423                     0                     0                     0   \n",
       "424                     0                     0                     0   \n",
       "425                     0                     0                     0   \n",
       "426                     0                     0                     0   \n",
       "\n",
       "     ProductId_B00954NYVY  ProductId_B009B87SAC  ProductId_B009GHI5Q4  \\\n",
       "422                     0                     0                     0   \n",
       "423                     0                     0                     0   \n",
       "424                     0                     0                     0   \n",
       "425                     0                     0                     0   \n",
       "426                     0                     0                     0   \n",
       "\n",
       "     ProductId_B009RB4GO4  \n",
       "422                     0  \n",
       "423                     0  \n",
       "424                     0  \n",
       "425                     0  \n",
       "426                     0  \n",
       "\n",
       "[5 rows x 1105 columns]"
      ]
     },
     "execution_count": 80,
     "metadata": {},
     "output_type": "execute_result"
    }
   ],
   "source": [
    "df_time = output[['Score','ProductId','datetime','Time']]\n",
    "df_time_dummy = pd.get_dummies(df_time)\n",
    "df_time_dummy.head()"
   ]
  },
  {
   "cell_type": "code",
   "execution_count": 105,
   "metadata": {},
   "outputs": [],
   "source": [
    "# Export\n",
    "df_time_dummy.to_csv('test.csv')"
   ]
  },
  {
   "cell_type": "code",
   "execution_count": 81,
   "metadata": {},
   "outputs": [],
   "source": [
    "# let test set (2013,1) to end, remaining as train set \n",
    "X_train = df_time_dummy[df_time_dummy.datetime < pd.to_datetime('2012-6-1')].iloc[:,2:]\n",
    "y_train = df_time_dummy[df_time_dummy.datetime < pd.to_datetime('2012-6-1')]['Score']\n",
    "X_test = df_time_dummy[df_time_dummy.datetime >= pd.to_datetime('2012-6-1')].iloc[:,2:]\n",
    "y_test = df_time_dummy[df_time_dummy.datetime >= pd.to_datetime('2012-6-1')]['Score']"
   ]
  },
  {
   "cell_type": "code",
   "execution_count": 82,
   "metadata": {},
   "outputs": [
    {
     "name": "stdout",
     "output_type": "stream",
     "text": [
      "Test set MSE is 2.220387494495817\n",
      "Train set MSE is 0.47931446358766466\n"
     ]
    }
   ],
   "source": [
    "from sklearn.ensemble import RandomForestClassifier\n",
    "from sklearn.metrics import mean_squared_error\n",
    "rdf = RandomForestClassifier(n_estimators=20)\n",
    "rdf.fit(X_train, y_train)\n",
    "y_test_pred = rdf.predict(X_test)\n",
    "y_train_pred = rdf.predict(X_train)\n",
    "print('Test set MSE is {}'.format(mean_squared_error(y_test, y_test_pred)))\n",
    "print('Train set MSE is {}'.format(mean_squared_error(y_train, y_train_pred)))"
   ]
  },
  {
   "cell_type": "code",
   "execution_count": 83,
   "metadata": {},
   "outputs": [
    {
     "data": {
      "text/html": [
       "<div>\n",
       "<style scoped>\n",
       "    .dataframe tbody tr th:only-of-type {\n",
       "        vertical-align: middle;\n",
       "    }\n",
       "\n",
       "    .dataframe tbody tr th {\n",
       "        vertical-align: top;\n",
       "    }\n",
       "\n",
       "    .dataframe thead th {\n",
       "        text-align: right;\n",
       "    }\n",
       "</style>\n",
       "<table border=\"1\" class=\"dataframe\">\n",
       "  <thead>\n",
       "    <tr style=\"text-align: right;\">\n",
       "      <th></th>\n",
       "      <th>Time</th>\n",
       "      <th>ProductId_7310172001</th>\n",
       "      <th>ProductId_7310172101</th>\n",
       "      <th>ProductId_B000084DWM</th>\n",
       "      <th>ProductId_B000084ETV</th>\n",
       "      <th>ProductId_B000084EZ4</th>\n",
       "      <th>ProductId_B00008CQVA</th>\n",
       "      <th>ProductId_B00008JOL0</th>\n",
       "      <th>ProductId_B00014DXCC</th>\n",
       "      <th>ProductId_B00014FKPA</th>\n",
       "      <th>...</th>\n",
       "      <th>ProductId_B008RWUHA6</th>\n",
       "      <th>ProductId_B008RWUKXK</th>\n",
       "      <th>ProductId_B008YA1NWC</th>\n",
       "      <th>ProductId_B008ZRKZSM</th>\n",
       "      <th>ProductId_B0090X8IPM</th>\n",
       "      <th>ProductId_B00954NY46</th>\n",
       "      <th>ProductId_B00954NYVY</th>\n",
       "      <th>ProductId_B009B87SAC</th>\n",
       "      <th>ProductId_B009GHI5Q4</th>\n",
       "      <th>ProductId_B009RB4GO4</th>\n",
       "    </tr>\n",
       "  </thead>\n",
       "  <tbody>\n",
       "    <tr>\n",
       "      <th>422</th>\n",
       "      <td>1335398400</td>\n",
       "      <td>0</td>\n",
       "      <td>0</td>\n",
       "      <td>0</td>\n",
       "      <td>0</td>\n",
       "      <td>0</td>\n",
       "      <td>0</td>\n",
       "      <td>0</td>\n",
       "      <td>0</td>\n",
       "      <td>0</td>\n",
       "      <td>...</td>\n",
       "      <td>0</td>\n",
       "      <td>0</td>\n",
       "      <td>0</td>\n",
       "      <td>0</td>\n",
       "      <td>0</td>\n",
       "      <td>0</td>\n",
       "      <td>0</td>\n",
       "      <td>0</td>\n",
       "      <td>0</td>\n",
       "      <td>0</td>\n",
       "    </tr>\n",
       "    <tr>\n",
       "      <th>423</th>\n",
       "      <td>1334620800</td>\n",
       "      <td>0</td>\n",
       "      <td>0</td>\n",
       "      <td>0</td>\n",
       "      <td>0</td>\n",
       "      <td>0</td>\n",
       "      <td>0</td>\n",
       "      <td>0</td>\n",
       "      <td>0</td>\n",
       "      <td>0</td>\n",
       "      <td>...</td>\n",
       "      <td>0</td>\n",
       "      <td>0</td>\n",
       "      <td>0</td>\n",
       "      <td>0</td>\n",
       "      <td>0</td>\n",
       "      <td>0</td>\n",
       "      <td>0</td>\n",
       "      <td>0</td>\n",
       "      <td>0</td>\n",
       "      <td>0</td>\n",
       "    </tr>\n",
       "    <tr>\n",
       "      <th>424</th>\n",
       "      <td>1334275200</td>\n",
       "      <td>0</td>\n",
       "      <td>0</td>\n",
       "      <td>0</td>\n",
       "      <td>0</td>\n",
       "      <td>0</td>\n",
       "      <td>0</td>\n",
       "      <td>0</td>\n",
       "      <td>0</td>\n",
       "      <td>0</td>\n",
       "      <td>...</td>\n",
       "      <td>0</td>\n",
       "      <td>0</td>\n",
       "      <td>0</td>\n",
       "      <td>0</td>\n",
       "      <td>0</td>\n",
       "      <td>0</td>\n",
       "      <td>0</td>\n",
       "      <td>0</td>\n",
       "      <td>0</td>\n",
       "      <td>0</td>\n",
       "    </tr>\n",
       "    <tr>\n",
       "      <th>425</th>\n",
       "      <td>1334016000</td>\n",
       "      <td>0</td>\n",
       "      <td>0</td>\n",
       "      <td>0</td>\n",
       "      <td>0</td>\n",
       "      <td>0</td>\n",
       "      <td>0</td>\n",
       "      <td>0</td>\n",
       "      <td>0</td>\n",
       "      <td>0</td>\n",
       "      <td>...</td>\n",
       "      <td>0</td>\n",
       "      <td>0</td>\n",
       "      <td>0</td>\n",
       "      <td>0</td>\n",
       "      <td>0</td>\n",
       "      <td>0</td>\n",
       "      <td>0</td>\n",
       "      <td>0</td>\n",
       "      <td>0</td>\n",
       "      <td>0</td>\n",
       "    </tr>\n",
       "    <tr>\n",
       "      <th>426</th>\n",
       "      <td>1334016000</td>\n",
       "      <td>0</td>\n",
       "      <td>0</td>\n",
       "      <td>0</td>\n",
       "      <td>0</td>\n",
       "      <td>0</td>\n",
       "      <td>0</td>\n",
       "      <td>0</td>\n",
       "      <td>0</td>\n",
       "      <td>0</td>\n",
       "      <td>...</td>\n",
       "      <td>0</td>\n",
       "      <td>0</td>\n",
       "      <td>0</td>\n",
       "      <td>0</td>\n",
       "      <td>0</td>\n",
       "      <td>0</td>\n",
       "      <td>0</td>\n",
       "      <td>0</td>\n",
       "      <td>0</td>\n",
       "      <td>0</td>\n",
       "    </tr>\n",
       "  </tbody>\n",
       "</table>\n",
       "<p>5 rows × 1103 columns</p>\n",
       "</div>"
      ],
      "text/plain": [
       "           Time  ProductId_7310172001  ProductId_7310172101  \\\n",
       "422  1335398400                     0                     0   \n",
       "423  1334620800                     0                     0   \n",
       "424  1334275200                     0                     0   \n",
       "425  1334016000                     0                     0   \n",
       "426  1334016000                     0                     0   \n",
       "\n",
       "     ProductId_B000084DWM  ProductId_B000084ETV  ProductId_B000084EZ4  \\\n",
       "422                     0                     0                     0   \n",
       "423                     0                     0                     0   \n",
       "424                     0                     0                     0   \n",
       "425                     0                     0                     0   \n",
       "426                     0                     0                     0   \n",
       "\n",
       "     ProductId_B00008CQVA  ProductId_B00008JOL0  ProductId_B00014DXCC  \\\n",
       "422                     0                     0                     0   \n",
       "423                     0                     0                     0   \n",
       "424                     0                     0                     0   \n",
       "425                     0                     0                     0   \n",
       "426                     0                     0                     0   \n",
       "\n",
       "     ProductId_B00014FKPA          ...           ProductId_B008RWUHA6  \\\n",
       "422                     0          ...                              0   \n",
       "423                     0          ...                              0   \n",
       "424                     0          ...                              0   \n",
       "425                     0          ...                              0   \n",
       "426                     0          ...                              0   \n",
       "\n",
       "     ProductId_B008RWUKXK  ProductId_B008YA1NWC  ProductId_B008ZRKZSM  \\\n",
       "422                     0                     0                     0   \n",
       "423                     0                     0                     0   \n",
       "424                     0                     0                     0   \n",
       "425                     0                     0                     0   \n",
       "426                     0                     0                     0   \n",
       "\n",
       "     ProductId_B0090X8IPM  ProductId_B00954NY46  ProductId_B00954NYVY  \\\n",
       "422                     0                     0                     0   \n",
       "423                     0                     0                     0   \n",
       "424                     0                     0                     0   \n",
       "425                     0                     0                     0   \n",
       "426                     0                     0                     0   \n",
       "\n",
       "     ProductId_B009B87SAC  ProductId_B009GHI5Q4  ProductId_B009RB4GO4  \n",
       "422                     0                     0                     0  \n",
       "423                     0                     0                     0  \n",
       "424                     0                     0                     0  \n",
       "425                     0                     0                     0  \n",
       "426                     0                     0                     0  \n",
       "\n",
       "[5 rows x 1103 columns]"
      ]
     },
     "execution_count": 83,
     "metadata": {},
     "output_type": "execute_result"
    }
   ],
   "source": [
    "X_train.head()"
   ]
  },
  {
   "cell_type": "markdown",
   "metadata": {},
   "source": [
    "### Implement Time model"
   ]
  },
  {
   "cell_type": "code",
   "execution_count": 84,
   "metadata": {},
   "outputs": [
    {
     "data": {
      "text/plain": [
       "RandomForestClassifier(bootstrap=True, class_weight=None, criterion='gini',\n",
       "            max_depth=None, max_features='auto', max_leaf_nodes=None,\n",
       "            min_impurity_decrease=0.0, min_impurity_split=None,\n",
       "            min_samples_leaf=1, min_samples_split=2,\n",
       "            min_weight_fraction_leaf=0.0, n_estimators=10, n_jobs=1,\n",
       "            oob_score=False, random_state=None, verbose=0,\n",
       "            warm_start=False)"
      ]
     },
     "execution_count": 84,
     "metadata": {},
     "output_type": "execute_result"
    }
   ],
   "source": [
    "X = df_time_dummy.iloc[:,2:]\n",
    "y = df_time_dummy['Score']\n",
    "rdf_clf = RandomForestClassifier()\n",
    "rdf_clf.fit(X, y)"
   ]
  },
  {
   "cell_type": "code",
   "execution_count": 100,
   "metadata": {},
   "outputs": [
    {
     "data": {
      "text/plain": [
       "array([4], dtype=int64)"
      ]
     },
     "execution_count": 100,
     "metadata": {},
     "output_type": "execute_result"
    }
   ],
   "source": [
    "demo = X.sort_values(by='Time', ascending=False).iloc[:1,:]\n",
    "demo.iloc[1:] = 0\n",
    "col_name = 'ProductId_B00438XVGU'\n",
    "demo[col_name] = 1\n",
    "rdf_clf.predict(X[:1])"
   ]
  },
  {
   "cell_type": "code",
   "execution_count": 101,
   "metadata": {},
   "outputs": [
    {
     "data": {
      "text/plain": [
       "array([4], dtype=int64)"
      ]
     },
     "execution_count": 101,
     "metadata": {},
     "output_type": "execute_result"
    }
   ],
   "source": [
    "demo = X.sort_values(by='Time', ascending=False).iloc[:1,:]\n",
    "demo.iloc[1:] = 0\n",
    "col_name = 'ProductId_B007JT7AEY'\n",
    "demo[col_name] = 1\n",
    "rdf_clf.predict(X[:1])"
   ]
  },
  {
   "cell_type": "code",
   "execution_count": 102,
   "metadata": {},
   "outputs": [
    {
     "data": {
      "text/plain": [
       "array([4], dtype=int64)"
      ]
     },
     "execution_count": 102,
     "metadata": {},
     "output_type": "execute_result"
    }
   ],
   "source": [
    "demo = X.sort_values(by='Time', ascending=False).iloc[:1,:]\n",
    "demo.iloc[1:] = 0\n",
    "col_name = 'ProductId_B003Z6W32E'\n",
    "demo[col_name] = 1\n",
    "rdf_clf.predict(X[:1])"
   ]
  },
  {
   "cell_type": "code",
   "execution_count": 103,
   "metadata": {},
   "outputs": [
    {
     "data": {
      "text/plain": [
       "array([4], dtype=int64)"
      ]
     },
     "execution_count": 103,
     "metadata": {},
     "output_type": "execute_result"
    }
   ],
   "source": [
    "demo = X.sort_values(by='Time', ascending=False).iloc[:1,:]\n",
    "demo.iloc[1:] = 0\n",
    "col_name = 'ProductId_B00451WLYI'\n",
    "demo[col_name] = 1\n",
    "rdf_clf.predict(X[:1])"
   ]
  },
  {
   "cell_type": "code",
   "execution_count": 104,
   "metadata": {},
   "outputs": [
    {
     "data": {
      "text/plain": [
       "array([4], dtype=int64)"
      ]
     },
     "execution_count": 104,
     "metadata": {},
     "output_type": "execute_result"
    }
   ],
   "source": [
    "demo = X.sort_values(by='Time', ascending=False).iloc[:1,:]\n",
    "demo.iloc[1:] = 0\n",
    "col_name = 'ProductId_B007RTR8UW'\n",
    "demo[col_name] = 1\n",
    "rdf_clf.predict(X[:1])"
   ]
  },
  {
   "cell_type": "markdown",
   "metadata": {},
   "source": [
    "### Extract keywords from our demo"
   ]
  },
  {
   "cell_type": "code",
   "execution_count": 89,
   "metadata": {
    "collapsed": true,
    "scrolled": true
   },
   "outputs": [],
   "source": [
    " #rows name\n",
    "df_nlp = pd.DataFrame(output.ProductId.unique()) # create a new df \n",
    "df_nlp.columns = ['ProductId']\n",
    "# create summary table\n",
    "def get_text(product):\n",
    "    nlp_text = ' '.join([row for row in output[output.ProductId == product].Text])\n",
    "    return nlp_text\n",
    "def get_summary(product):\n",
    "    nlp_summary = ' '.join([str(row) for row in output[output.ProductId == product].Summary])\n",
    "    return nlp_summary\n",
    "df_nlp['Text_'] = df_nlp.ProductId.apply(get_text)\n",
    "df_nlp['Summary_'] = df_nlp.ProductId.apply(get_summary)"
   ]
  },
  {
   "cell_type": "code",
   "execution_count": 146,
   "metadata": {
    "collapsed": true
   },
   "outputs": [],
   "source": [
    "import nltk\n",
    "from nltk.corpus import stopwords\n",
    "from collections import Counter\n",
    "\n",
    "stop = stopwords.words('english')\n",
    "stop.extend(['br','love','like','likes','get','would','one'])\n",
    "#df_nlp['Text_'] = df_nlp['Text_'].apply(nltk.word_tokenize)\n",
    "#df_nlp['Summary_'] = df_nlp['Summary_'].apply(nltk.word_tokenize)\n",
    "porter = nltk.PorterStemmer()\n",
    "df_nlp['Text_'] = df_nlp['Text_'].apply(lambda row: [x.lower() for x in row if x.isalpha() and x.lower() not in stop])\n",
    "df_nlp['text_count'] = df_nlp.Text_.apply(lambda x: Counter(x).most_common(10))"
   ]
  },
  {
   "cell_type": "code",
   "execution_count": 147,
   "metadata": {},
   "outputs": [
    {
     "data": {
      "text/plain": [
       "2627    [(soup, 20), (noodl, 16), (miso, 11), (flavor,...\n",
       "3016    [(coffe, 69), (roast, 29), (good, 23), (cup, 2...\n",
       "999     [(coffe, 1498), (pod, 522), (cup, 362), (use, ...\n",
       "55      [(syrup, 43), (mapl, 36), (grade, 17), (great,...\n",
       "2080    [(cooki, 40), (gluten, 25), (nana, 24), (good,...\n",
       "Name: text_count, dtype: object"
      ]
     },
     "execution_count": 147,
     "metadata": {},
     "output_type": "execute_result"
    }
   ],
   "source": [
    "df_nlp.text_count.sample(5)"
   ]
  },
  {
   "cell_type": "code",
   "execution_count": 176,
   "metadata": {
    "collapsed": true
   },
   "outputs": [],
   "source": [
    "item, key = test = zip(*df_nlp[df_nlp.ProductId == 'B00438XVGU'].text_count.iloc[0])"
   ]
  },
  {
   "cell_type": "code",
   "execution_count": 183,
   "metadata": {
    "collapsed": true
   },
   "outputs": [],
   "source": [
    "test = pd.DataFrame([item, key]).T\n",
    "test.columns = ['Keyword','Freq']"
   ]
  },
  {
   "cell_type": "code",
   "execution_count": 184,
   "metadata": {},
   "outputs": [
    {
     "data": {
      "text/html": [
       "<div>\n",
       "<style scoped>\n",
       "    .dataframe tbody tr th:only-of-type {\n",
       "        vertical-align: middle;\n",
       "    }\n",
       "\n",
       "    .dataframe tbody tr th {\n",
       "        vertical-align: top;\n",
       "    }\n",
       "\n",
       "    .dataframe thead th {\n",
       "        text-align: right;\n",
       "    }\n",
       "</style>\n",
       "<table border=\"1\" class=\"dataframe\">\n",
       "  <thead>\n",
       "    <tr style=\"text-align: right;\">\n",
       "      <th></th>\n",
       "      <th>Keyword</th>\n",
       "      <th>Freq</th>\n",
       "    </tr>\n",
       "  </thead>\n",
       "  <tbody>\n",
       "    <tr>\n",
       "      <th>0</th>\n",
       "      <td>coffe</td>\n",
       "      <td>175</td>\n",
       "    </tr>\n",
       "    <tr>\n",
       "      <th>1</th>\n",
       "      <td>cup</td>\n",
       "      <td>64</td>\n",
       "    </tr>\n",
       "    <tr>\n",
       "      <th>2</th>\n",
       "      <td>starbuck</td>\n",
       "      <td>60</td>\n",
       "    </tr>\n",
       "    <tr>\n",
       "      <th>3</th>\n",
       "      <td>via</td>\n",
       "      <td>59</td>\n",
       "    </tr>\n",
       "    <tr>\n",
       "      <th>4</th>\n",
       "      <td>instant</td>\n",
       "      <td>55</td>\n",
       "    </tr>\n",
       "    <tr>\n",
       "      <th>5</th>\n",
       "      <td>tast</td>\n",
       "      <td>51</td>\n",
       "    </tr>\n",
       "    <tr>\n",
       "      <th>6</th>\n",
       "      <td>brew</td>\n",
       "      <td>46</td>\n",
       "    </tr>\n",
       "    <tr>\n",
       "      <th>7</th>\n",
       "      <td>good</td>\n",
       "      <td>42</td>\n",
       "    </tr>\n",
       "    <tr>\n",
       "      <th>8</th>\n",
       "      <td>make</td>\n",
       "      <td>36</td>\n",
       "    </tr>\n",
       "    <tr>\n",
       "      <th>9</th>\n",
       "      <td>use</td>\n",
       "      <td>32</td>\n",
       "    </tr>\n",
       "  </tbody>\n",
       "</table>\n",
       "</div>"
      ],
      "text/plain": [
       "    Keyword Freq\n",
       "0     coffe  175\n",
       "1       cup   64\n",
       "2  starbuck   60\n",
       "3       via   59\n",
       "4   instant   55\n",
       "5      tast   51\n",
       "6      brew   46\n",
       "7      good   42\n",
       "8      make   36\n",
       "9       use   32"
      ]
     },
     "execution_count": 184,
     "metadata": {},
     "output_type": "execute_result"
    }
   ],
   "source": [
    "test"
   ]
  }
 ],
 "metadata": {
  "kernelspec": {
   "display_name": "Python 3",
   "language": "python",
   "name": "python3"
  },
  "language_info": {
   "codemirror_mode": {
    "name": "ipython",
    "version": 3
   },
   "file_extension": ".py",
   "mimetype": "text/x-python",
   "name": "python",
   "nbconvert_exporter": "python",
   "pygments_lexer": "ipython3",
   "version": "3.6.1"
  }
 },
 "nbformat": 4,
 "nbformat_minor": 2
}
